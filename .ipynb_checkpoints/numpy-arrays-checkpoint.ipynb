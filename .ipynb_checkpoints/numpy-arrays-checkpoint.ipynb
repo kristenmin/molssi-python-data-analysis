{
 "cells": [
  {
   "cell_type": "markdown",
   "metadata": {},
   "source": [
    "# Working with Numpy arrays"
   ]
  },
  {
   "cell_type": "code",
   "execution_count": 1,
   "metadata": {},
   "outputs": [],
   "source": [
    "import numpy as np\n",
    "import os"
   ]
  },
  {
   "cell_type": "markdown",
   "metadata": {},
   "source": [
    "### NumPy arrays vs. python lists"
   ]
  },
  {
   "cell_type": "code",
   "execution_count": 2,
   "metadata": {},
   "outputs": [
    {
     "name": "stdout",
     "output_type": "stream",
     "text": [
      "['O' 'H1' 'H2']\n",
      "[[ 0.       -0.007156  0.965491]\n",
      " [-0.        0.001486 -0.003471]\n",
      " [ 0.        0.931026  1.207929]]\n"
     ]
    }
   ],
   "source": [
    "file_location = os.path.join('data', 'water.xyz')\n",
    "xyz_file = np.genfromtxt(fname = file_location, skip_header = 2, dtype = 'unicode')\n",
    "symbols = xyz_file[:, 0] #element symbols\n",
    "coordinates = (xyz_file[:,1:]) #moleculr coordinates\n",
    "coordinates = coordinates.astype(np.float)\n",
    "\n",
    "print(symbols)\n",
    "print(coordinates)"
   ]
  },
  {
   "cell_type": "code",
   "execution_count": 4,
   "metadata": {},
   "outputs": [],
   "source": [
    "# slice the coordinates array to create a new array, oxygen_coord, which has the x, y, z coordinates for the oxygen atom.\n",
    "oxygen_coord = coordinates[0]"
   ]
  },
  {
   "cell_type": "code",
   "execution_count": 6,
   "metadata": {},
   "outputs": [
    {
     "name": "stdout",
     "output_type": "stream",
     "text": [
      "[0.1, -0.107156, 0.965491]\n"
     ]
    }
   ],
   "source": [
    "translation_vector = [0.1, -0.1, 0]\n",
    "\n",
    "oxygen_coord_new = []\n",
    "\n",
    "for dim in range(3): \n",
    "    new_position = oxygen_coord[dim] + translation_vector[dim]\n",
    "    oxygen_coord_new.append(new_position)\n",
    "    \n",
    "print(oxygen_coord_new)"
   ]
  },
  {
   "cell_type": "code",
   "execution_count": 7,
   "metadata": {},
   "outputs": [
    {
     "name": "stdout",
     "output_type": "stream",
     "text": [
      "[ 0.1      -0.107156  0.965491]\n"
     ]
    }
   ],
   "source": [
    "# same thing using numpy array\n",
    "\n",
    "# [x1+x2, y1+y2, z1+z2] \n",
    "\n",
    "oxygen_coord_new = oxygen_coord + translation_vector #element-wise operation\n",
    "print(oxygen_coord_new)"
   ]
  },
  {
   "cell_type": "code",
   "execution_count": 8,
   "metadata": {},
   "outputs": [
    {
     "data": {
      "text/plain": [
       "numpy.ndarray"
      ]
     },
     "execution_count": 8,
     "metadata": {},
     "output_type": "execute_result"
    }
   ],
   "source": [
    "type(oxygen_coord) #element-wise operation only worked because oxygen_coord was a numpy array!"
   ]
  },
  {
   "cell_type": "code",
   "execution_count": 9,
   "metadata": {},
   "outputs": [
    {
     "data": {
      "text/plain": [
       "list"
      ]
     },
     "execution_count": 9,
     "metadata": {},
     "output_type": "execute_result"
    }
   ],
   "source": [
    "oxygen_list = list(oxygen_coord)\n",
    "type(oxygen_list)"
   ]
  },
  {
   "cell_type": "code",
   "execution_count": 10,
   "metadata": {},
   "outputs": [
    {
     "data": {
      "text/plain": [
       "[0.0, -0.007156, 0.965491, 0.1, -0.1, 0]"
      ]
     },
     "execution_count": 10,
     "metadata": {},
     "output_type": "execute_result"
    }
   ],
   "source": [
    "oxygen_list + translation_vector"
   ]
  },
  {
   "cell_type": "code",
   "execution_count": 11,
   "metadata": {},
   "outputs": [
    {
     "data": {
      "text/plain": [
       "array([ 0.      , -0.007156,  0.965491,  0.1     , -0.1     ,  0.      ])"
      ]
     },
     "execution_count": 11,
     "metadata": {},
     "output_type": "execute_result"
    }
   ],
   "source": [
    "# to concatenate numpy arrays\n",
    "np.concatenate((oxygen_coord, translation_vector))"
   ]
  },
  {
   "cell_type": "code",
   "execution_count": 12,
   "metadata": {},
   "outputs": [
    {
     "name": "stdout",
     "output_type": "stream",
     "text": [
      "[2 3 0]\n",
      "[3 4 5]\n"
     ]
    }
   ],
   "source": [
    "# multiply two numpy arrays to get their element-wise product\n",
    "    # a = np.array([a0, a1, a2])\n",
    "    # b = np.array([b0, b1, b2])\n",
    "    # a*b = [a0*b0, a1*b1, a2*b2]\n",
    "# doesn't work if a and b were lists!\n",
    "\n",
    "a1 = np.array([2, 1, 0])\n",
    "a2 = np.array([1, 3, 5])\n",
    "\n",
    "print(a1 * a2)\n",
    "print(a1 + a2)"
   ]
  },
  {
   "cell_type": "code",
   "execution_count": 13,
   "metadata": {},
   "outputs": [
    {
     "ename": "TypeError",
     "evalue": "can't multiply sequence by non-int of type 'list'",
     "output_type": "error",
     "traceback": [
      "\u001b[0;31m---------------------------------------------------------------------------\u001b[0m",
      "\u001b[0;31mTypeError\u001b[0m                                 Traceback (most recent call last)",
      "\u001b[0;32m<ipython-input-13-0f43ac9e458f>\u001b[0m in \u001b[0;36m<module>\u001b[0;34m\u001b[0m\n\u001b[1;32m      3\u001b[0m \u001b[0ma2\u001b[0m \u001b[0;34m=\u001b[0m \u001b[0;34m[\u001b[0m\u001b[0;36m1\u001b[0m\u001b[0;34m,\u001b[0m \u001b[0;36m3\u001b[0m\u001b[0;34m,\u001b[0m \u001b[0;36m5\u001b[0m\u001b[0;34m]\u001b[0m\u001b[0;34m\u001b[0m\u001b[0;34m\u001b[0m\u001b[0m\n\u001b[1;32m      4\u001b[0m \u001b[0;34m\u001b[0m\u001b[0m\n\u001b[0;32m----> 5\u001b[0;31m \u001b[0mprint\u001b[0m\u001b[0;34m(\u001b[0m\u001b[0ma1\u001b[0m \u001b[0;34m*\u001b[0m \u001b[0ma2\u001b[0m\u001b[0;34m)\u001b[0m\u001b[0;34m\u001b[0m\u001b[0;34m\u001b[0m\u001b[0m\n\u001b[0m\u001b[1;32m      6\u001b[0m \u001b[0mprint\u001b[0m\u001b[0;34m(\u001b[0m\u001b[0ma1\u001b[0m \u001b[0;34m+\u001b[0m \u001b[0ma2\u001b[0m\u001b[0;34m)\u001b[0m\u001b[0;34m\u001b[0m\u001b[0;34m\u001b[0m\u001b[0m\n",
      "\u001b[0;31mTypeError\u001b[0m: can't multiply sequence by non-int of type 'list'"
     ]
    }
   ],
   "source": [
    "# if a1 and a2 were lists\n",
    "a1 = [2, 1, 0]\n",
    "a2 = [1, 3, 5]\n",
    "\n",
    "print(a1 * a2)\n",
    "print(a1 + a2)"
   ]
  },
  {
   "cell_type": "markdown",
   "metadata": {},
   "source": [
    "### Broadcasting \n",
    "attempt mathematical operations on arrays that have different shapes"
   ]
  },
  {
   "cell_type": "code",
   "execution_count": 14,
   "metadata": {},
   "outputs": [
    {
     "name": "stdout",
     "output_type": "stream",
     "text": [
      "[[0.1, -0.107156, 0.965491], [0.1, -0.098514, -0.003471], [0.1, 0.831026, 1.207929]]\n"
     ]
    }
   ],
   "source": [
    "# for loop\n",
    "new_coordinates = []\n",
    "\n",
    "for atom in coordinates: \n",
    "    new_x = atom[0] + translation_vector[0]\n",
    "    new_y = atom[1] + translation_vector[1]\n",
    "    new_z = atom[2] + translation_vector[2]\n",
    "    \n",
    "    new_coordinates.append([new_x, new_y, new_z])\n",
    "    \n",
    "print(new_coordinates)"
   ]
  },
  {
   "cell_type": "code",
   "execution_count": 15,
   "metadata": {},
   "outputs": [
    {
     "name": "stdout",
     "output_type": "stream",
     "text": [
      "[[ 0.1      -0.107156  0.965491]\n",
      " [ 0.1      -0.098514 -0.003471]\n",
      " [ 0.1       0.831026  1.207929]]\n"
     ]
    }
   ],
   "source": [
    "# broadcasting in numpy\n",
    "\n",
    "new_coordinates = coordinates + translation_vector \n",
    "# when it saw to matching 3's, it assumed to stretch or 'broadcast' the smaller array to match the larger one. \n",
    "print(new_coordinates)"
   ]
  },
  {
   "cell_type": "code",
   "execution_count": 18,
   "metadata": {},
   "outputs": [
    {
     "data": {
      "text/plain": [
       "(3, 3)"
      ]
     },
     "execution_count": 18,
     "metadata": {},
     "output_type": "execute_result"
    }
   ],
   "source": [
    "np.shape(coordinates) # have to have two arrays that have a matching dimension"
   ]
  },
  {
   "cell_type": "code",
   "execution_count": 19,
   "metadata": {},
   "outputs": [
    {
     "data": {
      "text/plain": [
       "(3,)"
      ]
     },
     "execution_count": 19,
     "metadata": {},
     "output_type": "execute_result"
    }
   ],
   "source": [
    "np.shape(translation_vector)"
   ]
  },
  {
   "cell_type": "code",
   "execution_count": 21,
   "metadata": {},
   "outputs": [
    {
     "name": "stdout",
     "output_type": "stream",
     "text": [
      "(3, 1)\n"
     ]
    }
   ],
   "source": [
    "row_translate = [[0.1], [0.2], [0.3]]\n",
    "print(np.shape(row_translate))"
   ]
  },
  {
   "cell_type": "code",
   "execution_count": 22,
   "metadata": {},
   "outputs": [
    {
     "name": "stdout",
     "output_type": "stream",
     "text": [
      "[[0.1      0.092844 1.065491]\n",
      " [0.2      0.201486 0.196529]\n",
      " [0.3      1.231026 1.507929]]\n"
     ]
    }
   ],
   "source": [
    "print(coordinates + row_translate)"
   ]
  },
  {
   "cell_type": "markdown",
   "metadata": {},
   "source": [
    "### logical comparisons"
   ]
  },
  {
   "cell_type": "code",
   "execution_count": 23,
   "metadata": {},
   "outputs": [
    {
     "name": "stdout",
     "output_type": "stream",
     "text": [
      "[[False False  True]\n",
      " [False  True False]\n",
      " [False  True  True]]\n"
     ]
    }
   ],
   "source": [
    "# find out if values in the array are greater than 0\n",
    "print(coordinates > 0)"
   ]
  },
  {
   "cell_type": "code",
   "execution_count": 24,
   "metadata": {},
   "outputs": [
    {
     "name": "stdout",
     "output_type": "stream",
     "text": [
      "[0.965491 0.001486 0.931026 1.207929]\n"
     ]
    }
   ],
   "source": [
    "# to get every value in the array that is greater than 0, use this as a list of indices we want, or a slice\n",
    "greater_than_0_values = coordinates[coordinates > 0]\n",
    "print(greater_than_0_values)"
   ]
  },
  {
   "cell_type": "markdown",
   "metadata": {},
   "source": [
    "### array axes"
   ]
  },
  {
   "cell_type": "code",
   "execution_count": 25,
   "metadata": {},
   "outputs": [],
   "source": [
    "# calculate the geometric center of our molecule\n",
    "\n",
    "# calculate the mean of each column using the range function and a for loop\n",
    "center = []\n",
    "\n",
    "for dim in range(len(symbols)):\n",
    "    dim_mean = np.mean(coordinates[:, dim])\n",
    "    center.append(dim_mean)"
   ]
  },
  {
   "cell_type": "code",
   "execution_count": 27,
   "metadata": {},
   "outputs": [
    {
     "name": "stdout",
     "output_type": "stream",
     "text": [
      "[0.         0.308452   0.72331633]\n"
     ]
    }
   ],
   "source": [
    "# numpy.mean function \n",
    "# numpy array can be thought of like a coordinates system. \n",
    "    # if axis is not specified, the mean of the entire array is computed.\n",
    "    # axis 1 runs along the rows, while axis 0 runs along the columns. \n",
    "\n",
    "center = np.mean(coordinates, axis=0)\n",
    "print(center) # with the same number of element as columns\n",
    "\n",
    "# 0th element of the variable = the mean of column index 0 and so on. "
   ]
  },
  {
   "cell_type": "markdown",
   "metadata": {},
   "source": [
    "### returning to the geometry analysis project"
   ]
  },
  {
   "cell_type": "code",
   "execution_count": 32,
   "metadata": {},
   "outputs": [],
   "source": [
    "# analyze an xyz file, find the bonds, and print bond lengths but using the features of numpy arrays\n",
    "\n",
    "# calculate distances between two points \n",
    "def calculate_distance_list (rA, rB): \n",
    "    \"\"\"calculate distance between point A and B\"\"\"\n",
    "    x_dist = (rA[0] - rB[0]) ** 2\n",
    "    y_dist = (rA[1] - rB[1]) ** 2\n",
    "    z_dist = (rA[2] - rB[2]) ** 2\n",
    "    \n",
    "    distance = np.sqrt(x_dist + y_dist + z_dist) \n",
    "    \n",
    "    return distance\n",
    "\n",
    "## print(calculate_distance_list(r1, r2))\n",
    "\n",
    "# this function works for both lists and numpy arrays, because it does not assume that rA and rB does element-wise ops."
   ]
  },
  {
   "cell_type": "code",
   "execution_count": 33,
   "metadata": {},
   "outputs": [],
   "source": [
    "# numpy arrays\n",
    "def calculate_distance(rA, rB):\n",
    "    \"\"\"calculate the distance between points A and B. rA and rB must be numpy arrays.\"\"\"\n",
    "    AB = (rB - rA) ** 2 #element-wise subtraction\n",
    "    distance = np.sqrt(np.sum(AB))\n",
    "    return distance\n",
    "\n",
    "# another way\n",
    "def calculate_distance(rA, rB):\n",
    "    dist_vec(rA-rB)\n",
    "    distance = np.linalg.norm(dist_vec) #function np.linalg.norm calculates the magnitude of a given vector. \n",
    "    return distance\n",
    "\n",
    "# print(calculate_distance(r1_array, r2_array)) "
   ]
  },
  {
   "cell_type": "code",
   "execution_count": null,
   "metadata": {},
   "outputs": [],
   "source": []
  }
 ],
 "metadata": {
  "kernelspec": {
   "display_name": "Python 3",
   "language": "python",
   "name": "python3"
  },
  "language_info": {
   "codemirror_mode": {
    "name": "ipython",
    "version": 3
   },
   "file_extension": ".py",
   "mimetype": "text/x-python",
   "name": "python",
   "nbconvert_exporter": "python",
   "pygments_lexer": "ipython3",
   "version": "3.7.6"
  }
 },
 "nbformat": 4,
 "nbformat_minor": 4
}
